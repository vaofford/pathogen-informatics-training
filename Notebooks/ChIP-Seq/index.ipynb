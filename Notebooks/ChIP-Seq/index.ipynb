{
 "cells": [
  {
   "cell_type": "markdown",
   "metadata": {},
   "source": [
    "# Introduction\n",
    "\n",
    "ChIP-Seq is the combination of chromatin immunoprecipitation (ChIP) assays with high-throughput sequencing (Seq) and can be used to identify DNA binding sites for transcription factors and other proteins. The goal of this hands-on session is to perform the basic steps of the analysis of ChIP-Seq data, as well as some downstream analysis. Throughout this practical we will try to identify potential transcription factor binding sites of PAX5 in human lymphoblastoid cells.\n",
    "\n",
    "\n",
    "## Learning outcomes\n",
    "\n",
    "By the end of this tutorial you can expect to be able to: \n",
    "\n",
    "  * generate an unspliced alignment by aligning raw sequencing data to the human genome using **[Bowtie2](http://bowtie-bio.sourceforge.net/bowtie2/index.shtml)**\n",
    "  * manipulate the SAM output in order to visualise the alignment in **[IGV](http://software.broadinstitute.org/software/igv/)**\n",
    "  * based on the aligned reads, find immuno-enriched areas using the peak caller **[MACS2](https://github.com/taoliu/MACS)**\n",
    "  * perform functional annotation and motif analysis on the predicted binding regions\n",
    "\n",
    "\n",
    "## Tutorial sections\n",
    "\n",
    "This tutorial comprises the following sections:    \n",
    "\n",
    "  1. [Introducing the tutorial dataset](dataset-intro.ipynb) \n",
    "  2. [Aligning the PAX5 sample to the genome](pax5-alignment.ipynb)\n",
    "  3. [Manipulating SAM output](manipulate-sam.ipynb) \n",
    "  4. [Visualising alignments in IGV](alignment-visualisation.ipynb) \n",
    "  5. [Aligning the control sample to the genome](control-alignment.ipynb)\n",
    "  6. [Identifying enriched areas using MACS](identifying-enriched-areas.ipynb)\n",
    "  7. [File formats](file-formats.ipynb)\n",
    "  8. [Inspecting genomic regions using bedtools](inspecting-genomic-regions.ipynb)\n",
    "  9. [Motif analysis](motif-analysis.ipynb)\n",
    " \n",
    " \n",
    "## Authors\n",
    "This tutorial was converted into a Jupyter notebook by [Victoria Offord](https://github.com/vaofford) based on materials developed by Angela Goncalves, Myrto Kostadima, Steven Wilder and Maria Xenophontos."
   ]
  },
  {
   "cell_type": "markdown",
   "metadata": {},
   "source": [
    "## Prerequisites\n",
    "\n",
    "This tutorial assumes that you have the following software or packages and their dependencies installed on your computer. The software or packages used in this tutorial may be updated from time to time so, we have also given you the version which was used when writing the tutorial. "
   ]
  },
  {
   "cell_type": "markdown",
   "metadata": {},
   "source": [
    "| Package               | Link for download/installation instructions                          | Version tested |\n",
    "| :-------------------: | :------------------------------------------------------------------: |:-------------: |\n",
    "| bedtools              | http://bedtools.readthedocs.io/en/latest/content/installation.html   | 2.26.0         |\n",
    "| Bowtie2               | http://bowtie-bio.sourceforge.net/bowtie2                            | 2.3.4.1        |\n",
    "| IGV                   | http://software.broadinstitute.org/software/igv                      | 2.7.2          |\n",
    "| MACS2                 | https://github.com/taoliu/MACS                                       | 2.1.0.20150420 |\n",
    "| meme                  | http://meme-suite.org/tools/meme                                     | 4.10.0         |\n",
    "| samtools              | https://github.com/samtools/samtools                                 | 1.9            |\n",
    "| tomtom                | http://web.mit.edu/meme_v4.11.4/share/doc/tomtom.html                | 4.10.0         |\n",
    "| UCSC tools            | http://hgdownload.cse.ucsc.edu/admin/exe/linux.x86_64                | NA             |"
   ]
  },
  {
   "cell_type": "markdown",
   "metadata": {},
   "source": [
    "## Where can I find the tutorial data?\n",
    "\n",
    "You can find the data for this tutorial by typing the following command in a new terminal window."
   ]
  },
  {
   "cell_type": "code",
   "execution_count": null,
   "metadata": {
    "collapsed": true
   },
   "outputs": [],
   "source": [
    "cd /home/manager/course_data/Module6_CHiPSeq"
   ]
  },
  {
   "cell_type": "markdown",
   "metadata": {},
   "source": [
    "Now, let’s head to the first section of this tutorial which will be [introducing the tutorial dataset](dataset-intro.ipynb)."
   ]
  }
 ],
 "metadata": {
  "anaconda-cloud": {},
  "kernelspec": {
   "display_name": "Bash",
   "language": "bash",
   "name": "bash"
  },
  "language_info": {
   "codemirror_mode": "shell",
   "file_extension": ".sh",
   "mimetype": "text/x-sh",
   "name": "bash"
  }
 },
 "nbformat": 4,
 "nbformat_minor": 2
}
