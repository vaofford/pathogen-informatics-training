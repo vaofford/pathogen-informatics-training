{
 "cells": [
  {
   "cell_type": "markdown",
   "metadata": {},
   "source": [
    "# Finding enriched areas using MACS\n",
    "\n",
    "[**MACS2**](https://github.com/taoliu/MACS) stands for **m**odel-based **a**nalysis of **C**hIP-**S**eq. It was designed for identifying transcription factor binding sites. MACS2 captures the influence of genome complexity to evaluate the significance of enriched ChIP regions, and improves the spatial resolution of binding sites through combining the information of both sequencing tag position and orientation. MACS2 can be easily used for ChIP-Seq data alone, or with a control sample to increase specificity."
   ]
  },
  {
   "cell_type": "markdown",
   "metadata": {},
   "source": [
    "**Consult the MACS2 help file to see the options and parameters:**"
   ]
  },
  {
   "cell_type": "code",
   "execution_count": null,
   "metadata": {
    "collapsed": true
   },
   "outputs": [],
   "source": [
    "macs2 --help"
   ]
  },
  {
   "cell_type": "code",
   "execution_count": null,
   "metadata": {
    "collapsed": true
   },
   "outputs": [],
   "source": [
    "macs2 callpeak --help"
   ]
  },
  {
   "cell_type": "markdown",
   "metadata": {},
   "source": [
    "The input for MACS2 can be in ELAND, BED, SAM, BAM or BOWTIE formats (you just have to set the `--format` flag).\n",
    "\n",
    "Options that you will have to use include:\n",
    "\n",
    "    -t to indicate the input ChIP file\n",
    "    \n",
    "    -c to indicate the name of the control file  \n",
    "    \n",
    "    --format the tag file format \n",
    "    (if this option is not set MACS automatically detects which format the file is) \n",
    "    \n",
    "    --name to set the name of the output files  \n",
    "    \n",
    "    --gsize to set the mappable genome size \n",
    "    (with the read length we have, 70% of the genome is a fair estimation)\n",
    "\n",
    "    --call-summits to detect all subpeaks in each enriched region and return their summits\n",
    "\n",
    "    --pvalue the P-value cutoff for peak detection.\n",
    "\n",
    "**Now run macs using the following command:**"
   ]
  },
  {
   "cell_type": "code",
   "execution_count": null,
   "metadata": {},
   "outputs": [],
   "source": [
    "macs2 callpeak -t PAX5.sorted.bam -c Control.sorted.bam \\\n",
    "--format BAM --name PAX5 --gsize 138000000 --pvalue 1e-3 \\\n",
    "--call-summits"
   ]
  },
  {
   "cell_type": "markdown",
   "metadata": {},
   "source": [
    "MACS2 generates its peak files in a file format called `.narrowPeak` file. This is a **BED** format describing genomic locations. Many types of genomic data can be represented as (sets of) genomic regions. In the following section we will look into the BED format in more detail, and we will perform simple operations on genomic interval data."
   ]
  },
  {
   "cell_type": "markdown",
   "metadata": {},
   "source": [
    "***"
   ]
  }
 ],
 "metadata": {
  "anaconda-cloud": {},
  "kernelspec": {
   "display_name": "Bash",
   "language": "bash",
   "name": "bash"
  },
  "language_info": {
   "codemirror_mode": "shell",
   "file_extension": ".sh",
   "mimetype": "text/x-sh",
   "name": "bash"
  }
 },
 "nbformat": 4,
 "nbformat_minor": 2
}
