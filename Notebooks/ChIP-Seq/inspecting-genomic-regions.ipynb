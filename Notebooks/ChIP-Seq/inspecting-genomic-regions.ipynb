{
 "cells": [
  {
   "cell_type": "markdown",
   "metadata": {},
   "source": [
    "# Inspecting genomic regions using bedtools\n",
    "\n",
    "In this section we perform simple functions, such as overlaps, on the most common file type used for describing genomic regions, the **BED** file. We will examine the results of the ChIP-Seq peak calling you have performed on the transcription factor PAX5 and perform simple operations on these files, using the [bedtools](https://bedtools.readthedocs.io/en/latest/) suite of programs. You will then annotate the MACS2 peaks with respect to genomic annotations. Finally, we will select the most significantly enriched peaks, and extract the genomic sequence flanking their summits, the point of highest enrichment."
   ]
  },
  {
   "cell_type": "markdown",
   "metadata": {},
   "source": [
    "The **bedtools** package permits complex, interval-based manipulation of BED and GTF files. They are also very fast. The general invocation of `bedtools` is `bedtools <COMMAND>`.\n",
    "\n",
    "**To get an overview of the available commands, simply call `bedtools` without any command or options in the terminal window.**"
   ]
  },
  {
   "cell_type": "code",
   "execution_count": null,
   "metadata": {
    "collapsed": true
   },
   "outputs": [],
   "source": [
    "bedtools"
   ]
  },
  {
   "cell_type": "markdown",
   "metadata": {},
   "source": [
    "To get help for a command, type `bedtools <COMMAND>`. Extensive documentation and examples are available at [https://bedtools.readthedocs.org/en/latest/](https://bedtools.readthedocs.org/en/latest/). We will now use bedtools to calculate simple coverage statistics of the peak calls over the genome (keep in mind that only peaks on Chromosome 1 are in the file).\n",
    "\n",
    "**To bring up the help page for the `bedtools genomecov` command, type:**"
   ]
  },
  {
   "cell_type": "code",
   "execution_count": null,
   "metadata": {
    "collapsed": true
   },
   "outputs": [],
   "source": [
    "bedtools genomecov"
   ]
  },
  {
   "cell_type": "markdown",
   "metadata": {},
   "source": [
    "**Calculate the genome coverage of the PAX5 peaks:**"
   ]
  },
  {
   "cell_type": "code",
   "execution_count": null,
   "metadata": {
    "collapsed": true
   },
   "outputs": [],
   "source": [
    "bedtools genomecov -i PAX5_peaks.narrowPeak -g genome/hg19.chrom.sizes"
   ]
  },
  {
   "cell_type": "markdown",
   "metadata": {},
   "source": [
    "In order to biologically interpret the results of ChIP-Seq experiments, it is useful to look at the genes and other annotated elements that are located in proximity to the identified enriched regions. We will now use `bedtools` to identify how many PAX5 peaks overlap GENCODE genes.\n",
    "\n",
    "**First we use `awk` to filter out only the genes from the GTF file:**"
   ]
  },
  {
   "cell_type": "code",
   "execution_count": null,
   "metadata": {
    "collapsed": true
   },
   "outputs": [],
   "source": [
    "awk '$3==\"gene\"' genome/gencode.v18.annotation.gtf \\\n",
    "> genome/gencode.v18.annotation.genes.gtf"
   ]
  },
  {
   "cell_type": "markdown",
   "metadata": {},
   "source": [
    "**Next, count the total number of PAX5 peaks:**"
   ]
  },
  {
   "cell_type": "code",
   "execution_count": null,
   "metadata": {
    "collapsed": true
   },
   "outputs": [],
   "source": [
    "wc -l PAX5_peaks.narrowPeak"
   ]
  },
  {
   "cell_type": "markdown",
   "metadata": {},
   "source": [
    "**Then use `bedtools` to find the number overlapping GENCODE genes:**"
   ]
  },
  {
   "cell_type": "code",
   "execution_count": null,
   "metadata": {
    "collapsed": true
   },
   "outputs": [],
   "source": [
    "bedtools intersect -a PAX5_peaks.narrowPeak \\\n",
    "-b genome/gencode.v18.annotation.genes.gtf | wc -l"
   ]
  },
  {
   "cell_type": "markdown",
   "metadata": {},
   "source": [
    "You can use the `bedtools closest` command to find the closest gene to each peak."
   ]
  },
  {
   "cell_type": "code",
   "execution_count": null,
   "metadata": {
    "collapsed": true
   },
   "outputs": [],
   "source": [
    "bedtools closest -a PAX5_peaks.narrowPeak \\\n",
    "-b genome/gencode.v18.annotation.genes.gtf | head"
   ]
  },
  {
   "cell_type": "markdown",
   "metadata": {},
   "source": [
    "Transcription factor binding near to the **transcript start sites (TSS)** of genes is known to drive gene expression or repression, so it is of interest to know which TSS regions are bound by PAX5. To determine this, we will first create a BED file of the GENCODE TSS using the GTF.\n",
    "\n",
    "**You can use this `awk` command to create the TSS BED file:**"
   ]
  },
  {
   "cell_type": "code",
   "execution_count": null,
   "metadata": {
    "collapsed": true
   },
   "outputs": [],
   "source": [
    "awk 'BEGIN {FS=OFS=\"\\t\"} { if($7==\"+\"){tss=$4-1} else { tss = $5 } \\\n",
    "print $1,tss, tss+1, \".\", \".\", $7, $9}' \\\n",
    "genome/gencode.v18.annotation.genes.gtf > genome/gencode.tss.bed"
   ]
  },
  {
   "cell_type": "markdown",
   "metadata": {},
   "source": [
    "**Now use the `bedtools closest` command again to find the closest TSS to each peak:**"
   ]
  },
  {
   "cell_type": "code",
   "execution_count": null,
   "metadata": {
    "collapsed": true
   },
   "outputs": [],
   "source": [
    "sortBed -i genome/gencode.tss.bed > genome/gencode.tss.sorted.bed"
   ]
  },
  {
   "cell_type": "code",
   "execution_count": null,
   "metadata": {
    "collapsed": true
   },
   "outputs": [],
   "source": [
    "bedtools closest -a PAX5_peaks.narrowPeak \\\n",
    "-b genome/gencode.tss.sorted.bed > PAX5_closestTSS.txt"
   ]
  },
  {
   "cell_type": "markdown",
   "metadata": {},
   "source": [
    "**Use head to inspect the results:**"
   ]
  },
  {
   "cell_type": "code",
   "execution_count": null,
   "metadata": {
    "collapsed": true
   },
   "outputs": [],
   "source": [
    "head PAX5_closestTSS.txt"
   ]
  },
  {
   "cell_type": "markdown",
   "metadata": {},
   "source": [
    "You have now matched up all the PAX5 transcription factor peaks to their nearest gene transcription start site."
   ]
  },
  {
   "cell_type": "markdown",
   "metadata": {},
   "source": [
    "***"
   ]
  },
  {
   "cell_type": "markdown",
   "metadata": {},
   "source": [
    "## Questions\n",
    "\n",
    "**Q1. Looking at the output of the `bedtools genomecov` we ran, what percentage of chromosome 1 do the peaks of PAX5 cover?**\n",
    "\n",
    "**Q2. Looking at the output from `bedtools intersect`, what proportion of PAX5 peaks overlap genes?**\n",
    "\n",
    "**Q3. Looking at `PAX5_closestTSS.txt`, which gene was found to be closest to MACS peak 2?**"
   ]
  },
  {
   "cell_type": "markdown",
   "metadata": {},
   "source": [
    "***"
   ]
  }
 ],
 "metadata": {
  "anaconda-cloud": {},
  "kernelspec": {
   "display_name": "Bash",
   "language": "bash",
   "name": "bash"
  },
  "language_info": {
   "codemirror_mode": "shell",
   "file_extension": ".sh",
   "mimetype": "text/x-sh",
   "name": "bash"
  }
 },
 "nbformat": 4,
 "nbformat_minor": 2
}
