{
 "cells": [
  {
   "cell_type": "markdown",
   "metadata": {},
   "source": [
    "# Aligning the PAX5 sample to the genome\n",
    "\n",
    "There are a number of competing tools for short read alignment, each with its own set of strengths, weaknesses, and caveats. Here we will use [**Bowtie2**](http://bowtie-bio.sourceforge.net/bowtie2/index.shtml), a widely used ultrafast, memory efficient short read aligner.\n",
    "\n",
    "Bowtie2 has a number of parameters in order to perform the alignment. To view them all type:"
   ]
  },
  {
   "cell_type": "code",
   "execution_count": null,
   "metadata": {
    "collapsed": true
   },
   "outputs": [],
   "source": [
    "bowtie2 --help"
   ]
  },
  {
   "cell_type": "markdown",
   "metadata": {},
   "source": [
    "Bowtie2 uses indexed genome for the alignment in order to keep its memory footprint small. Because of time constraints we will build the index only for one chromosome of the human genome. For this we need the chromosome sequence in fasta format. This is stored in a file named **`HS19.fa`**, under the subdirectory genome."
   ]
  },
  {
   "cell_type": "markdown",
   "metadata": {},
   "source": [
    "We will be storing our indexed genome in a folder called `bowtie_index`.\n",
    "\n",
    "**Check if the `bowtie_index` folder already exists.**"
   ]
  },
  {
   "cell_type": "code",
   "execution_count": null,
   "metadata": {
    "collapsed": true
   },
   "outputs": [],
   "source": [
    "ls bowtie_index"
   ]
  },
  {
   "cell_type": "markdown",
   "metadata": {},
   "source": [
    "**If it doesn't exist already, create the folder `bowtie_index`.**"
   ]
  },
  {
   "cell_type": "code",
   "execution_count": null,
   "metadata": {
    "collapsed": true
   },
   "outputs": [],
   "source": [
    "mkdir bowtie_index"
   ]
  },
  {
   "cell_type": "markdown",
   "metadata": {},
   "source": [
    "**Then, index the chromosome using the command:**"
   ]
  },
  {
   "cell_type": "code",
   "execution_count": null,
   "metadata": {
    "collapsed": true
   },
   "outputs": [],
   "source": [
    "bowtie2-build genome/HS19.fa bowtie_index/hs19"
   ]
  },
  {
   "cell_type": "markdown",
   "metadata": {},
   "source": [
    "Be patient, building the index may take 5-10 minutes!\n",
    "\n",
    "This command will output 6 files that constitute the index. These files that have the prefix **hs19** and are stored in the `bowtie_index` directory. \n",
    "\n",
    "**To check the files have been successfully created type:**"
   ]
  },
  {
   "cell_type": "code",
   "execution_count": null,
   "metadata": {
    "collapsed": true
   },
   "outputs": [],
   "source": [
    "ls -l bowtie_index"
   ]
  },
  {
   "cell_type": "markdown",
   "metadata": {},
   "source": [
    "Now that the genome is indexed we can move on to the actual alignment. In the following command the first argument (**`-k`**) instructs Bowtie2 to report only uniquely mapped reads. The following argument (**`-x`**) specifies the basename of the index for the genome to be searched; in our case is **hs19**. Then there is the name of the FASTQ\n",
    "file and the last argument (**`-S`**) that ensures that the output is in SAM format.\n",
    "\n",
    "**Align the PAX5 reads using Bowtie2:**"
   ]
  },
  {
   "cell_type": "code",
   "execution_count": null,
   "metadata": {
    "collapsed": true
   },
   "outputs": [],
   "source": [
    "bowtie2 -k 1 -x bowtie_index/hs19 PAX5.fastq -S PAX5.sam"
   ]
  },
  {
   "cell_type": "markdown",
   "metadata": {},
   "source": [
    "The above command outputs the alignments in **SAM** format and stores them in the file **`PAX5.sam`**.\n",
    "\n",
    "In general before you run Bowtie2, you have to know which FASTQ format you have. The available FASTQ formats in Bowtie2 are:\n",
    "\n",
    "    --phred33 input quals are Phred+33 (default)\n",
    "    --phred64 input quals are Phred+64\n",
    "    --int-quals input quals are specified as space-delimited integers\n",
    "    \n",
    "See http://en.wikipedia.org/wiki/FASTQ_format to find more detailed information about the different quality encodings. \n",
    "\n",
    "The `PAX5.fastq` file we are working on uses encoding **Phred+33** (the default). Bowtie2 will take 2-3 minutes to align the file. This is fast compared to other aligners that sacrifice some speed to obtain higher sensitivity.\n",
    "\n",
    "**Look at the file in the SAM format by typing:**"
   ]
  },
  {
   "cell_type": "code",
   "execution_count": null,
   "metadata": {
    "collapsed": true
   },
   "outputs": [],
   "source": [
    "head -n 10 PAX5.sam"
   ]
  },
  {
   "cell_type": "markdown",
   "metadata": {},
   "source": [
    "You can find more information on the SAM format by looking at [https://samtools.github.io/hts-specs/SAMv1.pdf](https://samtools.github.io/hts-specs/SAMv1.pdf)."
   ]
  },
  {
   "cell_type": "markdown",
   "metadata": {},
   "source": [
    "***"
   ]
  },
  {
   "cell_type": "markdown",
   "metadata": {},
   "source": [
    "## Questions\n",
    "\n",
    "**Q1. How can you distinguish between the header of the SAM format and the actual alignments?**  \n",
    "_Hint: look at section 1.3 in the documentation (https://samtools.github.io/hts-specs/SAMv1.pdf)_.\n",
    "\n",
    "**Q2. What information does the header provide you with?**  \n",
    "_Hint: use the documentation to work out what the header tags mean_\n",
    "\n",
    "**Q3. Which chromosome are the reads mapped to?**"
   ]
  },
  {
   "cell_type": "markdown",
   "metadata": {},
   "source": [
    "***"
   ]
  }
 ],
 "metadata": {
  "anaconda-cloud": {},
  "kernelspec": {
   "display_name": "Bash",
   "language": "bash",
   "name": "bash"
  },
  "language_info": {
   "codemirror_mode": "shell",
   "file_extension": ".sh",
   "mimetype": "text/x-sh",
   "name": "bash"
  }
 },
 "nbformat": 4,
 "nbformat_minor": 2
}
