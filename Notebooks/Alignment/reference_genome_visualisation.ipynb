{
 "cells": [
  {
   "cell_type": "markdown",
   "metadata": {},
   "source": [
    "# Visualising the the reference genome\n",
    "\n",
    "In this tutorial, we will use **BWA** (http://bio-bwa.sourceforge.net) to align one small region of Illumina sequencing data to the *Mus musculus* genome. \n",
    "\n",
    "The sequencing data (Illumina reads) that we'll be aligning come from Whole-Genome Sequencing (WGS) of a mouse embryo which has been mutagenised while at the one-cell stage using CRISPR-Cas9 and a gRNA targeting an exon of the *Tyr* gene. Successful mutation of the *Tyr* gene will delete one or both alleles. A bi-allelic null *Tyr* mouse will be albino, but otherwise healthy.\n",
    "\n",
    "First, let's take a look at the reference genome, in this case *Mus musculus*.\n",
    "\n",
    "**Go to the `ref` directory.**"
   ]
  },
  {
   "cell_type": "code",
   "execution_count": null,
   "metadata": {},
   "outputs": [],
   "source": [
    "cd ref"
   ]
  },
  {
   "cell_type": "markdown",
   "metadata": {},
   "source": [
    "In this directory, you will find a FASTA file which contains the reference genome. FASTA files (.fa or .fasta) are used to store raw sequencing information, such our reference genome, before aligning data. The mouse genome is in the file called `GRCm38.68.dna.toplevel.fa`.\n",
    "\n",
    "**Take a look at the reference genome (`GRCm38.68.dna.toplevel.fa`) with `less`.**"
   ]
  },
  {
   "cell_type": "code",
   "execution_count": null,
   "metadata": {},
   "outputs": [],
   "source": [
    "less GRCm38.68.dna.toplevel.fa"
   ]
  },
  {
   "cell_type": "markdown",
   "metadata": {},
   "source": [
    "As with BAM files, an index file is often required to allow fast retrieval of data from our reference genomes. In this case, we have already created the indices for our reference genome:\n",
    "\n",
    "* `GRCm38.68.dna.toplevel.fa.fai` – allows rapid sequence retrieval with `samtools`\n",
    "* `GRCm38.68.dna.toplevel.fa.amb` - records appearances of N (or other non-ATGC) in the reference\n",
    "* `GRCm38.68.dna.toplevel.fa.sa` – suffix trees, bwt transform etc."
   ]
  },
  {
   "cell_type": "markdown",
   "metadata": {},
   "source": [
    "### Exercises\n",
    "\n",
    "**Q1: What is the length of chromosome 1 in the reference (mouse) genome?**  \n",
    "_Hint: look at the FASTA header for chromosome 1_"
   ]
  },
  {
   "cell_type": "code",
   "execution_count": null,
   "metadata": {},
   "outputs": [],
   "source": []
  },
  {
   "cell_type": "markdown",
   "metadata": {},
   "source": [
    "**Q2: Can you quickly check if there other sequences in the assembly other than the 'standard' chromosomes?**  \n",
    "_Hint: try `grep '>' GRCm38.68.dna.toplevel.fa`_"
   ]
  },
  {
   "cell_type": "code",
   "execution_count": null,
   "metadata": {},
   "outputs": [],
   "source": []
  },
  {
   "cell_type": "markdown",
   "metadata": {},
   "source": [
    "The answers to the questions on this page can be found [here](answers.ipynb).   \n",
    "\n",
    "Now, continue to the next section of the tutorial: [Aligning paired FASTQ files with BWA](bwa_alignment.ipynb).   \n",
    "You can also return to the [index page](index.ipynb)."
   ]
  }
 ],
 "metadata": {
  "kernelspec": {
   "display_name": "Python 2",
   "language": "python",
   "name": "python2"
  },
  "language_info": {
   "codemirror_mode": {
    "name": "ipython",
    "version": 2
   },
   "file_extension": ".py",
   "mimetype": "text/x-python",
   "name": "python",
   "nbconvert_exporter": "python",
   "pygments_lexer": "ipython2",
   "version": "2.7.15"
  }
 },
 "nbformat": 4,
 "nbformat_minor": 2
}
