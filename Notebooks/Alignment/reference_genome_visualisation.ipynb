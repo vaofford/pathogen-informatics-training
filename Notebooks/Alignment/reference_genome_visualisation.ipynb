{
 "cells": [
  {
   "cell_type": "markdown",
   "metadata": {},
   "source": [
    "# Visualising the the reference genome\n",
    "\n",
    "We will use the BWA aligner to align one small region of Illumina sequencing data to the *Mus musculus* genome. You will align genomic sequence (from Whole-Genome Sequencing) from a mouse embryo which has been mutagenised while the one-cell stage using CRISPR-Cas9 and a gRNA targeting an exon of the *Tyr* gene. The successful mutation of the gene will delete one or both alleles. A bi-allelic null *Tyr* mouse will be albino, but otherwise healthy.\n",
    "\n",
    "**Go to the ‘ref’ directory that contains the fasta files of the reference genomes:**"
   ]
  },
  {
   "cell_type": "code",
   "execution_count": null,
   "metadata": {},
   "outputs": [],
   "source": [
    "cd ref"
   ]
  },
  {
   "cell_type": "markdown",
   "metadata": {},
   "source": [
    "FASTA files (.fa or .fasta) are used to store raw sequencing information before aligning data. The mouse genome file is in the file called `GRCm38.68.dna.toplevel.fa`.\n",
    "\n",
    "**View the file with less:**"
   ]
  },
  {
   "cell_type": "code",
   "execution_count": null,
   "metadata": {},
   "outputs": [],
   "source": [
    "less GRCm38.68.dna.toplevel.fa"
   ]
  },
  {
   "cell_type": "markdown",
   "metadata": {},
   "source": [
    "Similar to a BAM file, to allow fast retrieval of data, an index file is often required. In this case, we have already created the indices for the genome:\n",
    "\n",
    "* `GRCm38.68.dna.toplevel.fa.fai` – allows rapid sequence retrieval with samtools \n",
    "* `GRCm38.68.dna.toplevel.fa.amb` - records appearances of N (or other non-ATGC) in the reference\n",
    "* `GRCm38.68.dna.toplevel.fa.sa` – suffix trees, bwt transform etc."
   ]
  },
  {
   "cell_type": "markdown",
   "metadata": {},
   "source": [
    "### Exercises\n",
    "\n",
    "**Q1: What is the length of chromosome 1 of the mouse genome? (Hint: look at the FASTA header for chromosome 1)**"
   ]
  },
  {
   "cell_type": "code",
   "execution_count": null,
   "metadata": {},
   "outputs": [],
   "source": []
  },
  {
   "cell_type": "markdown",
   "metadata": {},
   "source": [
    "**Q2: Can you quickly check if there other sequences in the assembly other than the 'standard' chromosomes? (Hint: try `grep '>' GRCm38.68.dna.toplevel.fa`)**"
   ]
  },
  {
   "cell_type": "code",
   "execution_count": null,
   "metadata": {},
   "outputs": [],
   "source": []
  },
  {
   "cell_type": "markdown",
   "metadata": {},
   "source": [
    "The answers to the questions on this page can be found [here](answers.ipynb).   \n",
    "\n",
    "Now, continue to the next section of the tutorial: [Aligning paired FASTQ files with BWA](bwa_alignment.ipynb).   \n",
    "You can also return to the [index page](index.ipynb)."
   ]
  }
 ],
 "metadata": {
  "kernelspec": {
   "display_name": "Bash",
   "language": "bash",
   "name": "bash"
  },
  "language_info": {
   "codemirror_mode": "shell",
   "file_extension": ".sh",
   "mimetype": "text/x-sh",
   "name": "bash"
  }
 },
 "nbformat": 4,
 "nbformat_minor": 2
}
