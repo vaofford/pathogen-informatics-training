{
 "cells": [
  {
   "cell_type": "markdown",
   "metadata": {},
   "source": [
    "# Generating QC stats\n",
    "\n",
    "We've aligned our reads to the reference genome, sorted our BAM file and marked PCR duplicates. In this part of the tutorial, we will be using `samtools stats` to collect some statistics about the read alignments in the BAM file from the previous section. "
   ]
  },
  {
   "cell_type": "markdown",
   "metadata": {},
   "source": [
    "**Look at the usage for `samtools stats`.**"
   ]
  },
  {
   "cell_type": "code",
   "execution_count": null,
   "metadata": {},
   "outputs": [],
   "source": [
    "samtools stats"
   ]
  },
  {
   "cell_type": "markdown",
   "metadata": {},
   "source": [
    "**Run the `samtools stats` command from your `work` directory**:"
   ]
  },
  {
   "cell_type": "code",
   "execution_count": null,
   "metadata": {},
   "outputs": [],
   "source": [
    "samtools stats md5638.markdup.bam > md5638.markdup.stats"
   ]
  },
  {
   "cell_type": "markdown",
   "metadata": {},
   "source": [
    "### Exercises \n",
    "\n",
    "Look at the output and answer the following questions.\n",
    "\n",
    "**Q1: What is the total number of reads?**"
   ]
  },
  {
   "cell_type": "markdown",
   "metadata": {},
   "source": [
    "**Q2: What proportion of the reads were mapped?**"
   ]
  },
  {
   "cell_type": "markdown",
   "metadata": {},
   "source": [
    "**Q3: How many reads were paired correctly/properly?**"
   ]
  },
  {
   "cell_type": "markdown",
   "metadata": {},
   "source": [
    "**Q4: How many reads mapped to a different chromosome?**"
   ]
  },
  {
   "cell_type": "markdown",
   "metadata": {},
   "source": [
    "**Q5: What is the insert size mean and standard deviation?**"
   ]
  },
  {
   "cell_type": "markdown",
   "metadata": {},
   "source": [
    "Next we will create some QC plots from the output of the `samtools stats` command. Make sure you have saved the output of the stats command to a file (e.g. `lane1.stats.txt`). We will be using the `plot-bamstats` command that is part of `samtools` to generate quality control (QC) plots from our alignment statistics.\n",
    "\n",
    "**Look at the usage for `plot-bamstats`.**"
   ]
  },
  {
   "cell_type": "code",
   "execution_count": null,
   "metadata": {},
   "outputs": [],
   "source": [
    "plot-bamstats -h"
   ]
  },
  {
   "cell_type": "markdown",
   "metadata": {},
   "source": [
    "**Generate QC plots using `plot-bamstats`.**"
   ]
  },
  {
   "cell_type": "code",
   "execution_count": null,
   "metadata": {},
   "outputs": [],
   "source": [
    "plot-bamstats -p md5639_plot md5638.markdup.stats"
   ]
  },
  {
   "cell_type": "markdown",
   "metadata": {},
   "source": [
    "Now, in your web browser open the file called `md5639_plot.html` to view the QC information.\n",
    "\n",
    "### Exercises\n",
    "\n",
    "**Q6: How many reads have zero mapping quality?**"
   ]
  },
  {
   "cell_type": "markdown",
   "metadata": {},
   "source": [
    "**Q7: Which of the first fragments or second fragments are higher base quality on average? (Hint:\n",
    "look at the first of the 'Quality per cycle' graphs)**"
   ]
  },
  {
   "cell_type": "markdown",
   "metadata": {},
   "source": [
    "The answers to the questions on this page can be found [here](answers.ipynb).   \n",
    "\n",
    "Now continue to the next section of the tutorial: [BAM visualisation](bam_visualisation.ipynb).   \n",
    "Alternatively, you can return to the [previous section](pcr_duplicates.ipynb) or the [index page](index.ipynb)."
   ]
  }
 ],
 "metadata": {
  "kernelspec": {
   "display_name": "Bash",
   "language": "bash",
   "name": "bash"
  },
  "language_info": {
   "codemirror_mode": "shell",
   "file_extension": ".sh",
   "mimetype": "text/x-sh",
   "name": "bash"
  }
 },
 "nbformat": 4,
 "nbformat_minor": 2
}
