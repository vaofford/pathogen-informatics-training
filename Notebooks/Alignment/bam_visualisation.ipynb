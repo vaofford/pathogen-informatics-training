{
 "cells": [
  {
   "cell_type": "markdown",
   "metadata": {},
   "source": [
    "# BAM visualisation "
   ]
  },
  {
   "cell_type": "markdown",
   "metadata": {},
   "source": [
    "Congratulations! You made it to the good bit! Actually seeing the seeing sequence variation, natural or engineered, and pondering its relation to biological effects is quite compelling! \n",
    "\n",
    "**IGV** (www.broadinstitute.org/igv) is a very useful visualisation tool for looking at the alignments of reads onto a reference genome from BAM files.\n",
    "\n",
    "**Open up a terminal in your VM and start IGV.**"
   ]
  },
  {
   "cell_type": "code",
   "execution_count": null,
   "metadata": {},
   "outputs": [],
   "source": [
    "igv.sh"
   ]
  },
  {
   "cell_type": "markdown",
   "metadata": {},
   "source": [
    "Below is a quick overview of the main IGV window."
   ]
  },
  {
   "cell_type": "markdown",
   "metadata": {},
   "source": [
    "![IGV main view](img/igv_main_screen.png)"
   ]
  },
  {
   "cell_type": "markdown",
   "metadata": {},
   "source": [
    "**All of the files you will be loading into IGV will be in a shared directory that we will write out on the board before the class starts.**\n",
    "\n",
    "* Load the reference genome by going to the top menu bar, finding the genomes dropdown (top-left) and select \"mouse mm10\". This is a synonym for GRCm38, which is the current mouse assembly.\n",
    "\n",
    "* If, for whatever reason, this fails, you can load the genome from a file by going to Genomes => Load From File and use the genome file `GRCm38.68.dna.toplevel.fa`.\n",
    "\n",
    "* Load gene annotations in `Mus_musculus.GRCm38.93.chr.sorted.gtf` by going to File => Load From File.\n",
    "\n",
    "* Load your BAM file by going to the top menu bar and selecting File => Load From File and selecting `md5638.markdup.bam`.\n",
    "\n",
    "* Set up basic view preferences using popup preferences - i.e. use the little \"speech bubble\" button on the top icon list - and set popups on click only (or you will go mad, I promise).\n",
    "\n",
    "    * Track preferences by using command-click on the track at left.\n",
    "\n",
    "* Sort alignments by insert size.\n",
    "\n",
    "* Colour alignments by insert size.\n",
    "\n",
    "* View preferences (View menu item): View => preferences => Alignments.\n",
    "\n",
    "* Show soft-clipped bases. This colour highlighting emphasises soft-clips on the read itself.\n",
    "\n",
    "**Next, we will inspect an interesting region of the mouse *Tyr* locus.**\n",
    "\n",
    "* Go to chromosome 7, positions 87,483,625-87,484,330 using the navigation bar across the top.\n",
    "\n",
    "* Take in the glorious view of a genome pileup . Stop and smell the roses! Click on stuff! Scroll around, zoom in and out a bit!"
   ]
  },
  {
   "cell_type": "markdown",
   "metadata": {},
   "source": [
    "### Exercises"
   ]
  },
  {
   "cell_type": "markdown",
   "metadata": {},
   "source": [
    "**Q13: Go back to chromosome 7:87,483,625-87,484,330. What is the (rough) coverage across this region?**"
   ]
  },
  {
   "cell_type": "markdown",
   "metadata": {},
   "source": [
    "**Q14: There are three mutant variants (two small and one larger) in this region. Can you spot them,\n",
    "state what the evidence is for them, and work out their allele fraction?**"
   ]
  },
  {
   "cell_type": "markdown",
   "metadata": {},
   "source": [
    "**Q15: Can you venture a guess as to what happened here? Why are these mutations present? Why might they be\n",
    "subclonal?**"
   ]
  },
  {
   "cell_type": "markdown",
   "metadata": {},
   "source": [
    "*Hints:*\n",
    "\n",
    "*1. Look around 87,483,960 for an insertion. How large is it? How many reads does it occur in?*  \n",
    "*2. Look around 87,483,960 for a deletion. How large is it? How many reads does it occurin?*  \n",
    "*3. Zoom out slightly and watch the coverage track between 87,483,700 - 87,484,200.*  \n",
    "\n",
    "*Once you’ve spotted the large change look at reference sequence the edges of the mutation to hazard a guess as to its mechanism.*\n",
    "\n",
    "*What mutations can you see?*"
   ]
  },
  {
   "cell_type": "markdown",
   "metadata": {},
   "source": [
    "**Congratulations! You have reached the end of this tutorial!**\n",
    "\n",
    "You can find the answers to all the questions of the tutorial [here](answers.ipynb).  \n",
    "\n",
    "To revisit the previous section, click [here](qc_stats.ipynb). Alternatively you can head back to the [index page](index.ipynb)"
   ]
  }
 ],
 "metadata": {
  "kernelspec": {
   "display_name": "Bash",
   "language": "bash",
   "name": "bash"
  },
  "language_info": {
   "codemirror_mode": "shell",
   "file_extension": ".sh",
   "mimetype": "text/x-sh",
   "name": "bash"
  }
 },
 "nbformat": 4,
 "nbformat_minor": 2
}
