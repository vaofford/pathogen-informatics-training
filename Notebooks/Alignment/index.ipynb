{
 "cells": [
  {
   "cell_type": "markdown",
   "metadata": {},
   "source": [
    "# Alignment\n",
    "\n",
    "## Introduction\n",
    "\n",
    "In this tutorial, will then align whole-genome sequencing from a mouse zygote which was subject to CRISPR-induced mutagenesis. We will find the resulting engineered alleles, and track down some other alleles in this mouse.  \n",
    "\n",
    "## Authors\n",
    "This tutorial was written by [Vivek Iyer](https://www.sanger.ac.uk/people/directory/iyer-vivek) and [Thomas Keane](https://github.com/tk2).\n",
    "\n",
    "## Tutorial sections\n",
    "This tutorial comprises the following sections:   \n",
    " 1. [Visualising the the reference genome](reference_genome_visualisation.ipynb)   \n",
    " 2. [Aligning paired FASTQ files with BWA](bwa_alignment.ipynb)   \n",
    " 3. [Converting a SAM file to a BAM file](sam_bam_conversion.ipynb)   \n",
    " 4. [Sorting and indexing the BAM file](sort_and_index_bam.ipynb)   \n",
    " 5. [Using Unix pipes to combine the commands together](piping_commands.ipynb)\n",
    " 6. [Marking PCR duplicates](pcr_duplicates.ipynb)\n",
    " 7. [Generating QC stats](qc_stats.ipynb)\n",
    " 8. [BAM visualisation](bam_visualisation.ipynb)\n",
    " \n",
    "\n",
    "## Running the commands from this tutorial\n",
    "You can run the commands in this tutorial either directly from the Jupyter notebook (if using Jupyter), or by typing the commands in your terminal window. \n",
    "\n",
    "### Running commands on Jupyter\n",
    "If you are using Jupyter, command cells (like the one below) can be run by selecting the cell and clicking _Cell -> Run_ from the menu above or using _ctrl Enter_ to run the command. Let's give this a try by printing our working directory using the _pwd_ command and listing the files within it. Run the commands in the two cells below."
   ]
  },
  {
   "cell_type": "code",
   "execution_count": null,
   "metadata": {
    "collapsed": true
   },
   "outputs": [],
   "source": [
    "pwd"
   ]
  },
  {
   "cell_type": "code",
   "execution_count": null,
   "metadata": {
    "collapsed": true
   },
   "outputs": [],
   "source": [
    "ls -l"
   ]
  },
  {
   "cell_type": "markdown",
   "metadata": {},
   "source": [
    "### Running commands in the terminal\n",
    "You can also follow this tutorial by typing all the commands you see into a terminal window. This is similar to the \"Command Prompt\" window on MS Windows systems, which allows the user to type DOS commands to manage files.\n",
    "\n",
    "To get started, select the cell below with the mouse and then either press control and enter or choose Cell -> Run in the menu at the top of the page."
   ]
  },
  {
   "cell_type": "code",
   "execution_count": null,
   "metadata": {
    "collapsed": true
   },
   "outputs": [],
   "source": [
    "echo cd $PWD"
   ]
  },
  {
   "cell_type": "markdown",
   "metadata": {},
   "source": [
    "Now open a new terminal on your computer and type the command that was output by the previous cell followed by the enter key. The command will look similar to this:\n",
    "\n",
    "    cd /home/manager/pathogen-informatics-training/Notebooks/Alignment/\n",
    "    \n",
    "Now you can follow the instructions in the tutorial from here."
   ]
  },
  {
   "cell_type": "markdown",
   "metadata": {},
   "source": [
    "## Let’s get started!\n",
    "\n",
    "To get started with the tutorial, head to the first section: [Visualising the the reference genome](reference_genome_visualisation.ipynb)."
   ]
  }
 ],
 "metadata": {
  "kernelspec": {
   "display_name": "Bash",
   "language": "bash",
   "name": "bash"
  },
  "language_info": {
   "codemirror_mode": "shell",
   "file_extension": ".sh",
   "mimetype": "text/x-sh",
   "name": "bash"
  }
 },
 "nbformat": 4,
 "nbformat_minor": 2
}
