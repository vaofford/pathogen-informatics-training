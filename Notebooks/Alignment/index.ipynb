{
 "cells": [
  {
   "cell_type": "markdown",
   "metadata": {},
   "source": [
    "# Sequence alignment in the WSI (Sanger) compute environment\n",
    "\n",
    "## Introduction\n",
    "\n",
    "In this tutorial, we will be aligning whole-genome sequencing from a mouse zygote which was subject to CRISPR-induced mutagenesis. We will then find the resulting engineered alleles, and track down some other alleles in this mouse.  \n",
    "\n",
    "## Authors\n",
    "This tutorial was written by [Vivek Iyer](https://www.sanger.ac.uk/people/directory/iyer-vivek) and [Thomas Keane](https://github.com/tk2) and adapted to be run in the WSI (Sanger) compute environment by [Vivek Iyer](https://www.sanger.ac.uk/people/directory/iyer-vivek).\n",
    "\n",
    "\n",
    "## Tutorial sections\n",
    "This tutorial comprises the following sections:   \n",
    " 1. [Visualising the the reference genome](reference_genome_visualisation.ipynb)   \n",
    " 2. [Aligning paired FASTQ files with BWA](bwa_alignment.ipynb)   \n",
    " 3. [Converting a SAM file to a BAM file](sam_bam_conversion.ipynb)   \n",
    " 4. [Sorting and indexing the BAM file](sort_and_index_bam.ipynb)   \n",
    " 5. [Using Unix pipes to combine the commands together](piping_commands.ipynb)\n",
    " 6. [Marking PCR duplicates](pcr_duplicates.ipynb)\n",
    " 7. [Generating QC stats](qc_stats.ipynb)\n",
    " 8. [BAM visualisation](bam_visualisation.ipynb)"
   ]
  },
  {
   "cell_type": "markdown",
   "metadata": {},
   "source": [
    "## Running the commands from this tutorial\n",
    "\n",
    "The commands in this tutorial are designed to be run in the WSI (Sanger) compute environment. At Sanger, there are many different compute environments. For this tutorial, we will be logging into a server node called **vr-login**. \n",
    "\n",
    "We have pre-prepared a **working directory** for each user: \n",
    "\n",
    "    /lustre/scratch115/teams/hgi/WSI_NGS_tutorial/read_alignment/Exercise2/[user_name]  \n",
    "\n",
    "You will need to replace **[user_name]** with *your* user name (e.g. \"kj6\" or \"ls7\" etc). For example, if your username was *abc* then your **working directory** for this tutorial would be:\n",
    "\n",
    "    /lustre/scratch115/teams/hgi/WSI_NGS_tutorial/read_alignment/Exercise2/abc \n",
    "\n",
    "All of the directories specified in this tutorial have been set up inside your **working directory**. If you're not sure what we mean by this, please ask one of the instructors and they'll be happy to go over what this means.\n",
    "\n",
    "## Sanger user id, 'ssh gateway' and 'network' passwords\n",
    "\n",
    "This tutorial assumes that you have a **Sanger user ID**, **Sanger user password** and **Sanger SSH password** which  that you have previously used to:\n",
    "\n",
    "* log into the Sanger SSH gateway\n",
    "* log into individual servers\n",
    "\n",
    "\n",
    "## Logging into the WSI server environment and running commands in the terminal\n",
    "\n",
    "To run the commands in this tutorial, you first have to:\n",
    "\n",
    "* open a terminal window\n",
    "* log into the WSI (Sanger) compute environment\n",
    "* navigate to the working directory\n",
    "\n",
    "This is similar to the \"Command Prompt\" window on MS Windows systems, which allows the user to type DOS commands to manage files.\n",
    "\n",
    "**Open a terminal window in your VM.**\n",
    "\n",
    "For this tutorial, we will need to be connected to the WSI (Sanger) compute environment. To do this, we will be using **SSH** (Secure Shell) which allows us to connect to a remote server node, in this case **vr-login**, and execute shell commands.\n",
    "\n",
    "**Type the following commands in your terminal window to connect to the WSI (Sanger) compute environment using SSH.**"
   ]
  },
  {
   "cell_type": "code",
   "execution_count": null,
   "metadata": {},
   "outputs": [],
   "source": [
    "ssh -L localhost:3128:wwwcache.sanger.ac.uk:3128 vvi@ssh.sanger.ac.uk"
   ]
  },
  {
   "cell_type": "markdown",
   "metadata": {},
   "source": [
    "*You will need to replace 'vvi' with your user name (e.g. \"kj6\" or \"ls7\" etc).*\n",
    "\n",
    "**You should now see a password prompt. Enter your *Sanger SSH password*.** \n",
    "\n",
    "    vvi@ssh.sanger.ac.uk's password: \n",
    "    Last login: Sun Aug 25 08:30:51 2019 from cpc91218-cmbg18\n",
    "                  Wellcome Sanger Institute\n",
    "                         SSH Gateway\n",
    "\n",
    "         ********************************************\n",
    "         * This system is for authorised users only *\n",
    "         ********************************************\n",
    "\n",
    "The terminal won't show you the password that you enter for security reasons. It may look as if nothing is happening, but the terminal is registering every key stroke. If you're really stuck, you some folks try typing their password into a text editor and copy/pasting it into the terminal when prompted, but that isn't secure and we don't recommend it.\n",
    "\n",
    "*Note: you need your **SSH** password here and not your **user** password. In most cases, these passwords will be different and you need to use the password which corresponds to the command prompt. So, for this initial SSH Gateway prompt, you will need to use your **SSH** password.*"
   ]
  },
  {
   "cell_type": "markdown",
   "metadata": {},
   "source": [
    "**After entering the SSH Gateway, you will be prompted \"Where would you like to go today\"?  Enter the server node name *vr-login*.**\n",
    "\n",
    "    Where would you like to go today (exit to logout)? \n",
    "\n",
    "        > vr-login"
   ]
  },
  {
   "cell_type": "markdown",
   "metadata": {},
   "source": [
    "**You will then be prompted for your *Sanger user password*.**\n",
    "\n",
    "    Connecting to vr-login.internal.sanger.ac.uk ...\n",
    "    vvi@vr-login.internal.sanger.ac.uk's password: \n",
    "    \n",
    "*This is the standard network password that you use to log into other Sanger resources like Helix, webmail etc.*"
   ]
  },
  {
   "cell_type": "markdown",
   "metadata": {},
   "source": [
    "**Unless you see an error, you now have access to a command prompt on *vr-login*.**\n",
    "\n",
    "    Welcome to Ubuntu 12.04.2 LTS (GNU/Linux 3.2.0-105-generic x86_64)\n",
    "     * Documentation:  https://help.ubuntu.com/\n",
    "    This system is managed by CFEngine 3\n",
    "    Last login: Sun Aug 25 11:11:46 2019 from ssh.sanger.ac.uk\n",
    "    vvi@vr-2-2-02:~$ "
   ]
  },
  {
   "cell_type": "markdown",
   "metadata": {},
   "source": [
    "**Run the following command to set up your software environment to mirror NPG's software environment.**"
   ]
  },
  {
   "cell_type": "code",
   "execution_count": null,
   "metadata": {},
   "outputs": [],
   "source": [
    ". /software/npg/etc/profile.npg  "
   ]
  },
  {
   "cell_type": "markdown",
   "metadata": {},
   "source": [
    "This will allow you to access the same software (samtools, bcftools etc) that NPG uses."
   ]
  },
  {
   "cell_type": "markdown",
   "metadata": {},
   "source": [
    "**Navigate to your working area of the course, replacing '[user_name]' with your user name.**    "
   ]
  },
  {
   "cell_type": "code",
   "execution_count": null,
   "metadata": {},
   "outputs": [],
   "source": [
    "cd /lustre/scratch115/teams/hgi/WSI_NGS_tutorial/read_alignment/Exercise2/[user_name]"
   ]
  },
  {
   "cell_type": "markdown",
   "metadata": {},
   "source": [
    "All of the commands from this point on assume that you are in this directory."
   ]
  },
  {
   "cell_type": "markdown",
   "metadata": {},
   "source": [
    "## Let’s get started!\n",
    "\n",
    "To get started with the tutorial, head to the first section: [Visualising the the reference genome](reference_genome_visualisation.ipynb)."
   ]
  }
 ],
 "metadata": {
  "kernelspec": {
   "display_name": "Python 2",
   "language": "python",
   "name": "python2"
  },
  "language_info": {
   "codemirror_mode": {
    "name": "ipython",
    "version": 2
   },
   "file_extension": ".py",
   "mimetype": "text/x-python",
   "name": "python",
   "nbconvert_exporter": "python",
   "pygments_lexer": "ipython2",
   "version": "2.7.15"
  }
 },
 "nbformat": 4,
 "nbformat_minor": 2
}
