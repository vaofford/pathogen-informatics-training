{
 "cells": [
  {
   "cell_type": "markdown",
   "metadata": {},
   "source": [
    "# Using Unix pipes to combine the commands together\n",
    "\n",
    "To produce the sorted BAM file, we had to carry out several separate commands and produce intermediate files. The Unix pipe command (`|`) allows you to feed the output of one command into the next command.\n",
    "\n",
    "We can combine all of these commands together using unix pipes, do all of this data processing together and avoid writing intermediate files."
   ]
  },
  {
   "cell_type": "markdown",
   "metadata": {},
   "source": [
    "bwa mem ../ref/GRCm38.68.dna.toplevel.fa \\\n",
    "md5638a_7_87000000_R1.fastq md5638a_7_87000000_R2.fastq | \\\n",
    "samtools view -O BAM - | \\\n",
    "samtools sort -T temp -O bam -o md5638.sorted.bam -"
   ]
  },
  {
   "cell_type": "markdown",
   "metadata": {},
   "source": [
    "The answers to the questions on this page can be found [here](answers.ipynb).   \n",
    "\n",
    "Now continue to the next section of the tutorial: [Marking PCR duplicates](pcr_duplicates.ipynb).   \n",
    "Alternatively, you can return to the [previous section](sort_and_index_bam.ipynb) or the [index page](index.ipynb)."
   ]
  }
 ],
 "metadata": {
  "kernelspec": {
   "display_name": "Bash",
   "language": "bash",
   "name": "bash"
  },
  "language_info": {
   "codemirror_mode": "shell",
   "file_extension": ".sh",
   "mimetype": "text/x-sh",
   "name": "bash"
  }
 },
 "nbformat": 4,
 "nbformat_minor": 2
}
