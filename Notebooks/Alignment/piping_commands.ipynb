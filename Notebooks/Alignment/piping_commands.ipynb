{
 "cells": [
  {
   "cell_type": "markdown",
   "metadata": {},
   "source": [
    "# Using Unix pipes to combine the commands together\n",
    "\n",
    "In the previous section, we produced a sorted BAM file.. To do this, we had to carry out several separate commands which produced intermediate files. In this section, we will look at the Unix pipe command (`|`) which allows you to feed the output of one command into the next command. All of the commands we used to generate our sorted BAM file can be combined using Unix pipes and avoid writing intermediate files."
   ]
  },
  {
   "cell_type": "markdown",
   "metadata": {},
   "source": [
    "    bwa mem ../ref/GRCm38.68.dna.toplevel.fa \\\n",
    "    md5638a_7_87000000_R1.fastq md5638a_7_87000000_R2.fastq | \\\n",
    "    samtools view -O BAM - | \\\n",
    "    samtools sort -T temp -O bam -o md5638.sorted.bam -"
   ]
  },
  {
   "cell_type": "markdown",
   "metadata": {},
   "source": [
    "As before, you will end up with your sorted BAM file `md5638.sorted.bam`. However, you will not have generated the intermediate files such as `md5638.sam` and `md5638.bam`. For more information about working with `samtools` and the pipe command, see http://samtools.sourceforge.net/pipe.shtml."
   ]
  },
  {
   "cell_type": "markdown",
   "metadata": {},
   "source": [
    "Now continue to the next section of the tutorial: [Marking PCR duplicates](pcr_duplicates.ipynb).   \n",
    "Alternatively, you can return to the [previous section](sort_and_index_bam.ipynb) or the [index page](index.ipynb)."
   ]
  }
 ],
 "metadata": {
  "kernelspec": {
   "display_name": "Bash",
   "language": "bash",
   "name": "bash"
  },
  "language_info": {
   "codemirror_mode": "shell",
   "file_extension": ".sh",
   "mimetype": "text/x-sh",
   "name": "bash"
  }
 },
 "nbformat": 4,
 "nbformat_minor": 2
}
