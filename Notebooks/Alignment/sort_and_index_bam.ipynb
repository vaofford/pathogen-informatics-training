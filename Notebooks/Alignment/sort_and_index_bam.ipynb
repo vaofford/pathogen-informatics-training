{
 "cells": [
  {
   "cell_type": "markdown",
   "metadata": {},
   "source": [
    "# Sorting and indexing the BAM file\n",
    "\n",
    "The BAM files produced by BWA are sorted by read name (the same order as the original FASTQ files). However, most viewing and variant calling software required the BAM files to be sorted by reference co-ordinate position and indexed for rapid retrieval. \n",
    "\n",
    "In this part of the tutorial, we we will be using `samtools sort` to produce a new BAM file (`md5638.sorted.bam`) that is sorted by genomic (reference co-ordinate) position. We will then index this sorted BAM file using the `samtools index` command.\n",
    "\n",
    "*Note: indexing a BAM file is also a good way to check that the BAM file has not been truncated (e.g. your disk becomes full when writing the BAM file). At the end of every BAM file, a special end of file (EOF) marker is written. The `samtools index` command will first check for this and produce an error message if it is not found.*"
   ]
  },
  {
   "cell_type": "markdown",
   "metadata": {},
   "source": [
    "**Look at the usage for `samtools sort`.**"
   ]
  },
  {
   "cell_type": "code",
   "execution_count": null,
   "metadata": {},
   "outputs": [],
   "source": [
    "samtools sort"
   ]
  },
  {
   "cell_type": "markdown",
   "metadata": {},
   "source": [
    "When sorting our BAM file with `samtools sort` we will be using the `-T`, `-O` and `-o` options. It's a good idea to have a look at the usage and see what they do."
   ]
  },
  {
   "cell_type": "markdown",
   "metadata": {},
   "source": [
    "**Sort `md5638.bam` using `samtools sort`, calling the new, sorted BAM file `md5638.sorted.bam`.**"
   ]
  },
  {
   "cell_type": "code",
   "execution_count": null,
   "metadata": {},
   "outputs": [],
   "source": [
    "samtools sort -T temp -O bam -o md5638.sorted.bam md5638.bam"
   ]
  },
  {
   "cell_type": "markdown",
   "metadata": {},
   "source": [
    "**Q1: Index the sorted BAM file (`md5638.sorted.bam`) using the `samtools index` command:**"
   ]
  },
  {
   "cell_type": "code",
   "execution_count": null,
   "metadata": {},
   "outputs": [],
   "source": []
  },
  {
   "cell_type": "markdown",
   "metadata": {},
   "source": [
    "**Q2: Inspect the sorted BAM file. Are all the alignments on a single chromosome? This is a section of the mouse *Tyr* gene - so, why are there alignments on other chromosomes?**"
   ]
  },
  {
   "cell_type": "code",
   "execution_count": null,
   "metadata": {},
   "outputs": [],
   "source": []
  },
  {
   "cell_type": "markdown",
   "metadata": {},
   "source": [
    "The answers to the questions on this page can be found [here](answers.ipynb).   \n",
    "\n",
    "Now continue to the next section of the tutorial: [Using Unix pipes to combine the commands together](piping_commands.ipynb).  \n",
    "Alternatively, you can return to the [previous section](sam_bam_conversion.ipynb) or the [index page](index.ipynb)."
   ]
  }
 ],
 "metadata": {
  "kernelspec": {
   "display_name": "Bash",
   "language": "bash",
   "name": "bash"
  },
  "language_info": {
   "codemirror_mode": "shell",
   "file_extension": ".sh",
   "mimetype": "text/x-sh",
   "name": "bash"
  }
 },
 "nbformat": 4,
 "nbformat_minor": 2
}
