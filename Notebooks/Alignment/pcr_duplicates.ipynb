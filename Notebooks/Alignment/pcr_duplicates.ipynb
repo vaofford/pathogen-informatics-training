{
 "cells": [
  {
   "cell_type": "markdown",
   "metadata": {},
   "source": [
    "# Marking PCR duplicates\n",
    "\n",
    "We will use a program called `MarkDuplicates` that is part of Picard tools (http://picard.sourceforge.net) to remove PCR duplicates that may have been introduced during the library construction stage. \n",
    "\n",
    "**Find the options for `MarkDuplicates`**:"
   ]
  },
  {
   "cell_type": "markdown",
   "metadata": {},
   "source": [
    "picard-tools MarkDuplicates"
   ]
  },
  {
   "cell_type": "markdown",
   "metadata": {},
   "source": [
    "**Now, run `MarkDuplicates` using the `I=` option to specify the input BAM file and the `O=` option to specify the output file (e.g. `md5638.markdup.bam`). You will also need to specify the duplication metrics output file using `M=` (e.g. `md5638.markdup.metrics`).**"
   ]
  },
  {
   "cell_type": "code",
   "execution_count": null,
   "metadata": {},
   "outputs": [],
   "source": [
    "picard-tools MarkDuplicates I= md5638.sorted.bam O=md5638.markdup.bam\n",
    "M=md5638.metrics.txt"
   ]
  },
  {
   "cell_type": "markdown",
   "metadata": {},
   "source": [
    "**Generate an index for the bam file using `samtools index`:**"
   ]
  },
  {
   "cell_type": "code",
   "execution_count": null,
   "metadata": {},
   "outputs": [],
   "source": [
    "samtools index md5638.markdup.bam"
   ]
  },
  {
   "cell_type": "markdown",
   "metadata": {},
   "source": [
    "### Exercises\n",
    "\n",
    "**Q3: From looking at the output metrics file - how many reads were marked as duplicates?**"
   ]
  },
  {
   "cell_type": "code",
   "execution_count": null,
   "metadata": {},
   "outputs": [],
   "source": []
  },
  {
   "cell_type": "markdown",
   "metadata": {},
   "source": [
    "**Q4: What was the percent duplication?**"
   ]
  },
  {
   "cell_type": "code",
   "execution_count": null,
   "metadata": {},
   "outputs": [],
   "source": []
  },
  {
   "cell_type": "markdown",
   "metadata": {},
   "source": [
    "The answers to the questions on this page can be found [here](answers.ipynb).   \n",
    "\n",
    "Now continue to the next section of the tutorial: [Generating QC stats](qc_stats.ipynb).   \n",
    "Alternatively, you can return to the [previous section](piping_commands.ipynb) or the [index page](index.ipynb)."
   ]
  }
 ],
 "metadata": {
  "kernelspec": {
   "display_name": "Bash",
   "language": "bash",
   "name": "bash"
  },
  "language_info": {
   "codemirror_mode": "shell",
   "file_extension": ".sh",
   "mimetype": "text/x-sh",
   "name": "bash"
  }
 },
 "nbformat": 4,
 "nbformat_minor": 2
}
