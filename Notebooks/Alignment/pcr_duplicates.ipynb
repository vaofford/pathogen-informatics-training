{
 "cells": [
  {
   "cell_type": "markdown",
   "metadata": {},
   "source": [
    "# Marking PCR duplicates\n",
    "\n",
    "**PCR duplicates** are reads which originate from the same fragment of DNA that may have been introduced during library construction. In this part of the tutorial, we will be using a program called `MarkDuplicates` which is part of the Picard tools suite (http://picard.sourceforge.net) to remove PCR duplicates.\n",
    "\n",
    "**Look at the usage for `MarkDuplicates`.**"
   ]
  },
  {
   "cell_type": "code",
   "execution_count": null,
   "metadata": {},
   "outputs": [],
   "source": [
    "java -jar ../picard.jar MarkDuplicates"
   ]
  },
  {
   "cell_type": "markdown",
   "metadata": {},
   "source": [
    "**Now, run `MarkDuplicates` using the `I=` option to specify the input BAM file and the `O=` option to specify the output file (e.g. `md5638.markdup.bam`). You will also need to specify the duplication metrics output file using `M=` (e.g. `md5638.markdup.metrics`).**"
   ]
  },
  {
   "cell_type": "code",
   "execution_count": null,
   "metadata": {},
   "outputs": [],
   "source": [
    "java -jar ../picard.jar MarkDuplicates I= md5638.sorted.bam O=md5638.markdup.bam M=md5638.metrics.txt"
   ]
  },
  {
   "cell_type": "markdown",
   "metadata": {},
   "source": [
    "**Generate an index for the BAM file using `samtools index`.**"
   ]
  },
  {
   "cell_type": "code",
   "execution_count": null,
   "metadata": {},
   "outputs": [],
   "source": [
    "samtools index md5638.markdup.bam"
   ]
  },
  {
   "cell_type": "markdown",
   "metadata": {},
   "source": [
    "### Exercises\n",
    "\n",
    "**Q1: Look at the output metrics file `md5638.metrics.txt`. How many reads were marked as duplicates? What was the percent duplication?**"
   ]
  },
  {
   "cell_type": "markdown",
   "metadata": {},
   "source": [
    "The answers to the questions on this page can be found [here](answers.ipynb).   \n",
    "\n",
    "Now continue to the next section of the tutorial: [Generating QC stats](qc_stats.ipynb).   \n",
    "Alternatively, you can return to the [previous section](piping_commands.ipynb) or the [index page](index.ipynb)."
   ]
  }
 ],
 "metadata": {
  "kernelspec": {
   "display_name": "Bash",
   "language": "bash",
   "name": "bash"
  },
  "language_info": {
   "codemirror_mode": "shell",
   "file_extension": ".sh",
   "mimetype": "text/x-sh",
   "name": "bash"
  }
 },
 "nbformat": 4,
 "nbformat_minor": 2
}
