{
 "cells": [
  {
   "cell_type": "markdown",
   "metadata": {},
   "source": [
    "# Visualising reference genome\n",
    "__1.__ 195,471,971 bp  \n",
    "__2.__ Use 'grep' to print out the fasta header lines\n",
    "\n",
    "`grep '>' GRCm38.68.dna.toplevel.fa` \n",
    "\n",
    "This will show you \n",
    "* 'standard' chromosomes, 1, 2 ...X, Y, MT\n",
    "and \n",
    "* unassembled scaffolds: JH584295.1, ... JH584299.1"
   ]
  },
  {
   "cell_type": "markdown",
   "metadata": {},
   "source": [
    "# Aligning paired FASTQ files with BWA\n",
    "\n",
    "__1.__ `wc -l fastq/*\n",
    "   785640 fastq/md5638a_7_87000000_R1.fastq\n",
    "   785640 fastq/md5638a_7_87000000_R2.fastq\n",
    "  157128 total`\n",
    "  This says there are 157128 / 4 = 39,282 input reads\n",
    "\n",
    "__2.__ `grep -c -v '@' md5638.sam` yields the count of 393833 lines. \n",
    "\n",
    "__3.__ Most likely there are multiple alignments per read. We can prove this by counting up how many duplicated read-names there are:\n",
    "\n",
    "`grep -v '@' md5638.sam | cut -f 1 | less | sort | uniq -c | sort -k 1,1nr > aligned_read_counts_by_read_name.txt`\n",
    "\n",
    "Now browse the `aligned_read_counts_by_read_name.txt` file with less:\n",
    "\n",
    "`less aligned_read_counts_by_read_name.txt`\n",
    "\n",
    "and notice that there are read names with 5 alignments, 4 alignments etc. \n",
    "\n",
    "      5 HX8_24050:2:1124:3244:50392\n",
    "      5 HX8_24050:3:2218:23815:30896\n",
    "      5 HX8_24050:4:1219:23754:3612\n",
    "      5 HX8_24050:4:2115:5386:23477\n",
    "      5 HX8_24050:4:2224:4279:54787\n",
    "      4 HX8_24050:1:2118:5325:21508\n",
    "      4 HX8_24050:1:2124:5812:4561\n",
    "      ...\n",
    "      2 HX8_24050:5:2224:9587:45628\n",
    "      2 HX8_24050:5:2224:9709:33850\n",
    "      2 HX8_24050:5:2224:9820:15303\n",
    "      2 HX8_24050:5:2224:9881:6970\n",
    "      2 HX8_24050:5:2224:9932:1080\n",
    "      2 HX8_24050:5:2224:9973:16270\n",
    "\n",
    "\n",
    "Read-names describe both members of a read-pair - We are expecting 2 alignments per read-name - so these high counts result from multiple alignments for the same read.\n",
    "\n"
   ]
  },
  {
   "cell_type": "markdown",
   "metadata": {},
   "source": [
    "# Converting a SAM file to a BAM file\n",
    "\n",
    "__1.__ Simply typing `samtools view` will bring up the help options:\n",
    "\n",
    "    samtools view\n",
    "    Usage: samtools view [options] <in.bam>|<in.sam>|<in.cram> [region ...]\n",
    "    Options:\n",
    "      -b       output BAM\n",
    "      ...\n",
    "\n",
    "Reading through the options suggests we should use the -O bam and -o <file name> options.\n",
    "\n",
    "__2.__ The `ls` commands with arguments `-lh` will show the number of bytes used by each file listed, in a human-readable form:\n",
    "\n",
    "    ls -lh\n",
    "    total 188M\n",
    "    -rw-r--r-- 1 vvi hgi 6.9M Aug 26 11:05 aligned_read_counts_by_read_name.txt\n",
    "    -rw-r--r-- 1 vvi hgi  26M Aug 26 11:34 md5638.bam\n",
    "    -rw-r--r-- 1 vvi hgi 157M Aug 25 16:29 md5638.sam\n",
    "\n",
    "In this case you can see that the bam file takes up 26Mb, whereas the sam file takes up 157Mb, so converting to bam is a 6x space saving!\n"
   ]
  },
  {
   "cell_type": "markdown",
   "metadata": {},
   "source": [
    "__3__. No reads where lost by converting SAM to BAM:\n",
    "\n",
    "    samtools view -c md5638.bam \n",
    "    393833\n",
    "\n",
    "    samtools view -c md5638.sam\n",
    "    393833"
   ]
  },
  {
   "cell_type": "markdown",
   "metadata": {},
   "source": [
    "# Sorting and indexing the BAM file"
   ]
  },
  {
   "cell_type": "markdown",
   "metadata": {},
   "source": [
    "__1.__ use the samtools index command"
   ]
  },
  {
   "cell_type": "code",
   "execution_count": null,
   "metadata": {},
   "outputs": [],
   "source": [
    "samtools index md5638.sorted.bam"
   ]
  },
  {
   "cell_type": "markdown",
   "metadata": {},
   "source": [
    "__2.__ We can quickly see that there are alignments to many chromsomes, not just chr7 (which is where the mouse Tyr gene is located)."
   ]
  },
  {
   "cell_type": "code",
   "execution_count": null,
   "metadata": {},
   "outputs": [],
   "source": [
    "samtools view md5638.sorted.bam | head | less -S\n",
    "samtools view md5638.sorted.bam | tail | less -S"
   ]
  },
  {
   "cell_type": "markdown",
   "metadata": {},
   "source": [
    "    HX8_24050:5:1123:17036:64333    163     1       4559741 0       65M86S \n",
    "    HX8_24050:4:1120:23571:25341    99      1       4559735 0       66M85S \n",
    "    ...\n",
    "    ...\n",
    "    HX8_24050:3:1215:11749:58585    163     Y       60702321        0       151M\n",
    "    HX8_24050:3:1215:11749:58585    83      Y       60702549        0       151M"
   ]
  },
  {
   "cell_type": "markdown",
   "metadata": {},
   "source": [
    "This is because both the intronic sections and the exonic sections of the gene will contain matches - perfect or otherwise - to other regions of the genome. The aligner will report all of those matches.\n",
    "\n",
    "We can quickly see that the vast majority of the alignments are on chr7:"
   ]
  },
  {
   "cell_type": "code",
   "execution_count": null,
   "metadata": {},
   "outputs": [],
   "source": [
    " samtools view md5638.sorted.bam | cut -f 3 | uniq -c"
   ]
  },
  {
   "cell_type": "code",
   "execution_count": null,
   "metadata": {},
   "outputs": [],
   "source": [
    " \n",
    "    835 1\n",
    "    467 10\n",
    "    379 11\n",
    "    487 12\n",
    "    480 13\n",
    "    479 14\n",
    "    426 15\n",
    "    299 16\n",
    "    189 17\n",
    "    284 18\n",
    "     98 19\n",
    "    430 2\n",
    "    520 3\n",
    "    492 4\n",
    "    533 5\n",
    "    443 6\n",
    " 385335 7 <<<<< SEE HERE, most of the aligns are on chr7\n",
    "    322 8\n",
    "    347 9\n",
    "    775 X\n",
    "    198 Y\n",
    "      2 GL456212.1\n",
    "      6 JH584303.1\n",
    "      2 GL456219.1\n",
    "      2 GL456354.1\n",
    "      2 JH584297.1\n",
    "      1 GL456221.1"
   ]
  },
  {
   "cell_type": "markdown",
   "metadata": {},
   "source": [
    "# Marking PCR duplicates\n",
    "\n",
    "__1.__ The metrics file shows that 33490 read-pairs out of 195184 read-pairs were marked as PCR duplicates, which is a duplicate rate of ~17%\n",
    "\n",
    "    ## METRICS CLASS        picard.sam.DuplicationMetrics\n",
    "    LIBRARY UNPAIRED_READS_EXAMINED READ_PAIRS_EXAMINED     SECONDARY_OR_SUPPLEMENTARY_RDS  UNMAPPED_READS  UNPAIRED_READ_DUPLICATES        READ_PAIR_DUPLICATES\n",
    "    READ_PAIR_OPTICAL_DUPLICATES    PERCENT_DUPLICATION     ESTIMATED_LIBRARY_SIZE\n",
    "    Unknown Library 1226    195184  1013    1226    358     33490   12796   0.171959        741723"
   ]
  },
  {
   "cell_type": "markdown",
   "metadata": {},
   "source": [
    "# Generating QC stats\n",
    "\n",
    "__1.__ 392820 - this is same as the number from the input fastq files = 2 x (785640/4):\n",
    "\n",
    "    wc -l ../fastq/md5638a_7_87000000_R1.fastq \n",
    "    785640 ../fastq/md5638a_7_87000000_R1.fastq\n",
    "\n",
    "It is _not_ the same as the number of alignments in the input bam file:\n",
    "\n",
    "    samtools view -c md5638.markdup.bam \n",
    "    393833\n",
    "    \n",
    "__2.__ 391594 / 392820 ~ 99.7% of the reads were mapped.\n",
    "\n",
    "__3.__ 389366\n",
    "\n",
    "__4.__ 37\n",
    "\n",
    "__5.__ Insert size mean: 418.4 SD: 113.0\n",
    "\n",
    "__6.__ 2.7%\n",
    "\n",
    "__7.__ First fragment\n",
    "\n",
    "\n",
    "# BAM visualisation\n",
    "\n",
    "__1.__ Variable from high-50's to high-20's.\n",
    "\n",
    "__2.__ There's a 1bp insertion of a \"T\" in 9 reads, a 28bp deletion in 3 reads and a big (300bp) deletion with evidence from 6 read-pairs with trucated / soft-clipped insert-size reads & a stack more purely soft-clipped read-pairs.\n",
    "\n",
    "__3.__ As we have said, these mutations are the result of CRISPR-cas9 acting to cut the genome roughly in the middle of the area we are looking at. That cutting resulted in Non-Homologous-End-Join-based (NHEJ) damage around base 87,483,960: that resulted in a subclonal 1bp insertion and a 28bp deletion. Microhomology–induced-end-joining resulted in the 338bp deletion.\n",
    "\n",
    "Can you see the “TTT” motif on the 5’ end of the deletion, and just inside the 3’ end of the deletion? You are watching the zygote DNA-repair machinery panicking and grabbing at straws).\n",
    "\n",
    "Why are these alleles subclonal? Because the action of the CRISPR-Cas9 occurred both at the single-cell and the two-cell stage."
   ]
  }
 ],
 "metadata": {
  "kernelspec": {
   "display_name": "Bash",
   "language": "bash",
   "name": "bash"
  },
  "language_info": {
   "codemirror_mode": "shell",
   "file_extension": ".sh",
   "mimetype": "text/x-sh",
   "name": "bash"
  }
 },
 "nbformat": 4,
 "nbformat_minor": 2
}
