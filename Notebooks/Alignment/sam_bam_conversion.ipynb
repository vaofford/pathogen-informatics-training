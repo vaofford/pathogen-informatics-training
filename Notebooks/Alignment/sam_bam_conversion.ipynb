{
 "cells": [
  {
   "cell_type": "markdown",
   "metadata": {},
   "source": [
    "# Converting a SAM file to a BAM file\n",
    "\n",
    "In the previous section, we aligned the WGS reads to our reference genome.  This gave us a SAM file. Now, we need to convert the SAM file (`md5638.sam`) into a BAM file (`md5638.bam`). \n",
    "\n",
    "To convert the SAM file into a BAM file called `md5638.bam` we will be using **samtools** (www.htslib.org/doc/samtools.html)."
   ]
  },
  {
   "cell_type": "markdown",
   "metadata": {},
   "source": [
    "**Convert `md5638.sam` into a BAM file called `md5638.bam` using `samtools view`.**"
   ]
  },
  {
   "cell_type": "code",
   "execution_count": null,
   "metadata": {},
   "outputs": [],
   "source": [
    "samtools view -O bam -o md5638.bam md5638.sam"
   ]
  },
  {
   "cell_type": "markdown",
   "metadata": {},
   "source": [
    "**Q1: When you used `samtools view`, which options were required to input a SAM file and output a BAM file and what do they do?**  \n",
    "*Hint: look at the usage for `samtools view`.*"
   ]
  },
  {
   "cell_type": "code",
   "execution_count": null,
   "metadata": {},
   "outputs": [],
   "source": []
  },
  {
   "cell_type": "markdown",
   "metadata": {},
   "source": [
    "**Q2: How much space is saved by using a BAM file instead of SAM?**"
   ]
  },
  {
   "cell_type": "code",
   "execution_count": null,
   "metadata": {},
   "outputs": [],
   "source": []
  },
  {
   "cell_type": "markdown",
   "metadata": {},
   "source": [
    "**Q3: Were any reads lost by converting SAM to BAM** ?"
   ]
  },
  {
   "cell_type": "code",
   "execution_count": null,
   "metadata": {},
   "outputs": [],
   "source": []
  },
  {
   "cell_type": "markdown",
   "metadata": {},
   "source": [
    "The answers to the questions on this page can be found [here](answers.ipynb).   \n",
    "\n",
    "Now continue to the next section of the tutorial: [Sorting and indexing the BAM file](sort_and_index_bam.ipynb).  \n",
    "Alternatively, you can return to the [previous section](bwa_alignment.ipynb) or the [index page](index.ipynb)."
   ]
  }
 ],
 "metadata": {
  "kernelspec": {
   "display_name": "Bash",
   "language": "bash",
   "name": "bash"
  },
  "language_info": {
   "codemirror_mode": "shell",
   "file_extension": ".sh",
   "mimetype": "text/x-sh",
   "name": "bash"
  }
 },
 "nbformat": 4,
 "nbformat_minor": 2
}
