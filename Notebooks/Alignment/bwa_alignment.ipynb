{
 "cells": [
  {
   "cell_type": "markdown",
   "metadata": {},
   "source": [
    "# Aligning paired FASTQ files with BWA\n",
    "\n",
    "Change into the `fastq` directory:"
   ]
  },
  {
   "cell_type": "code",
   "execution_count": null,
   "metadata": {},
   "outputs": [],
   "source": [
    "cd fastq"
   ]
  },
  {
   "cell_type": "markdown",
   "metadata": {},
   "source": [
    "We will use the `bwa-mem` command from BWA to align the FASTQ files to the mouse reference genome. BWA outputs SAM files by default, so you will have to pipe the result into a SAM file."
   ]
  },
  {
   "cell_type": "markdown",
   "metadata": {},
   "source": [
    "bwa mem ../ref/GRCm38.68.dna.toplevel.fa \\\n",
    "md5638a_7_87000000_R1.fastq md5638a_7_87000000_R2.fastq > md5638.sam"
   ]
  },
  {
   "cell_type": "markdown",
   "metadata": {},
   "source": [
    "The answers to the questions on this page can be found [here](answers.ipynb).   \n",
    "\n",
    "Now continue to the next section of the tutorial: [Converting a SAM file to a BAM file](sam_bam_conversion.ipynb).   \n",
    "Alternatively, you can return to the [previous section](reference_genome_visualisation.ipynb) or the [index page](index.ipynb)."
   ]
  }
 ],
 "metadata": {
  "kernelspec": {
   "display_name": "Bash",
   "language": "bash",
   "name": "bash"
  },
  "language_info": {
   "codemirror_mode": "shell",
   "file_extension": ".sh",
   "mimetype": "text/x-sh",
   "name": "bash"
  }
 },
 "nbformat": 4,
 "nbformat_minor": 2
}
